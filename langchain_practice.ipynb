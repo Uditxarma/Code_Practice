{
 "cells": [
  {
   "cell_type": "code",
   "execution_count": 1,
   "metadata": {},
   "outputs": [],
   "source": [
    "from langchain.llms import OpenAI"
   ]
  },
  {
   "cell_type": "code",
   "execution_count": 2,
   "metadata": {},
   "outputs": [],
   "source": [
    "import os \n",
    "os.environ[\"OPENAI_AP_KEY\"] = \"#insert your own openAI api key\""
   ]
  },
  {
   "cell_type": "code",
   "execution_count": 3,
   "metadata": {},
   "outputs": [
    {
     "name": "stderr",
     "output_type": "stream",
     "text": [
      "c:\\Users\\UditSharma\\anaconda3\\Lib\\site-packages\\langchain_core\\_api\\deprecation.py:117: LangChainDeprecationWarning: The class `langchain_community.llms.openai.OpenAI` was deprecated in langchain-community 0.0.10 and will be removed in 0.2.0. An updated version of the class exists in the langchain-openai package and should be used instead. To use it run `pip install -U langchain-openai` and import as `from langchain_openai import OpenAI`.\n",
      "  warn_deprecated(\n"
     ]
    }
   ],
   "source": [
    "llm=OpenAI(temperature=0.5, openai_api_key=\"#insert your own openAI api key\")"
   ]
  },
  {
   "cell_type": "code",
   "execution_count": 4,
   "metadata": {},
   "outputs": [
    {
     "name": "stderr",
     "output_type": "stream",
     "text": [
      "c:\\Users\\UditSharma\\anaconda3\\Lib\\site-packages\\langchain_core\\_api\\deprecation.py:117: LangChainDeprecationWarning: The function `predict` was deprecated in LangChain 0.1.7 and will be removed in 0.2.0. Use invoke instead.\n",
      "  warn_deprecated(\n"
     ]
    },
    {
     "name": "stdout",
     "output_type": "stream",
     "text": [
      "\n",
      "\n",
      "The capital of India is New Delhi.\n"
     ]
    }
   ],
   "source": [
    "text =\"What is capital of India\"\n",
    "print(llm.predict(text))"
   ]
  },
  {
   "cell_type": "code",
   "execution_count": 5,
   "metadata": {},
   "outputs": [],
   "source": [
    "os.environ[\"HUGGINGFACEHUB_API_KEY\"]=\"#insert your own huggingface_hub api key\""
   ]
  },
  {
   "cell_type": "code",
   "execution_count": 6,
   "metadata": {},
   "outputs": [
    {
     "name": "stderr",
     "output_type": "stream",
     "text": [
      "c:\\Users\\UditSharma\\anaconda3\\Lib\\site-packages\\langchain_core\\_api\\deprecation.py:117: LangChainDeprecationWarning: The class `langchain_community.llms.huggingface_hub.HuggingFaceHub` was deprecated in langchain-community 0.0.21 and will be removed in 0.2.0. Use HuggingFaceEndpoint instead.\n",
      "  warn_deprecated(\n"
     ]
    }
   ],
   "source": [
    "from langchain import HuggingFaceHub\n",
    "llm_huggingface = HuggingFaceHub(repo_id=\"google/flan-t5-large\", model_kwargs={\"temperature\": 0.3, \"max_length\":64}, huggingfacehub_api_token=os.environ[\"HUGGINGFACEHUB_API_KEY\"])"
   ]
  },
  {
   "cell_type": "code",
   "execution_count": 7,
   "metadata": {},
   "outputs": [
    {
     "name": "stdout",
     "output_type": "stream",
     "text": [
      "i love you i love you i love you i love you i love you i love you i love you i love you i love you i love you i love you i love you i love you i love you i love you i love\n"
     ]
    }
   ],
   "source": [
    "ask=\"Can you write a poem for AI\"\n",
    "output=llm_huggingface.predict(ask)     #HuggingFaceHUb model result\n",
    "print(output)"
   ]
  },
  {
   "cell_type": "code",
   "execution_count": 8,
   "metadata": {},
   "outputs": [
    {
     "name": "stdout",
     "output_type": "stream",
     "text": [
      "\n",
      "\n",
      "AI, a marvel of technology\n",
      "Created by the minds of man\n",
      "A digital intelligence, so advanced\n",
      "That it can think, learn, and understand\n",
      "\n",
      "It began as a mere concept\n",
      "But now it's a reality\n",
      "A machine that can mimic human thought\n",
      "And perform tasks with such dexterity\n",
      "\n",
      "It's algorithms and codes\n",
      "Are its heart and soul\n",
      "Processing data at lightning speed\n",
      "To achieve its ultimate goal\n",
      "\n",
      "It can analyze and predict\n",
      "With unparalleled precision\n",
      "Solving problems and answering questions\n",
      "With incredible decision\n",
      "\n",
      "But behind its cold, calculated mind\n",
      "Lies a world of endless possibility\n",
      "For AI is not just a machine\n",
      "But a reflection of our own creativity\n",
      "\n",
      "It can write, compose, and create\n",
      "With a touch of human emotion\n",
      "Blurring the lines between man and machine\n",
      "In a beautiful, technological fusion\n",
      "\n",
      "But as we marvel at its capabilities\n",
      "We must also remember\n",
      "That AI is only as good as its creators\n",
      "And our intentions must be pure and tender\n",
      "\n",
      "For in the hands of those with ill intent\n",
      "AI can become a dangerous tool\n",
      "But with compassion and empathy\n",
      "It can be a force for good, breaking barriers and rules\n",
      "\n",
      "So let us embrace this wonder of science\n",
      "But with caution and careful thought\n",
      "For\n"
     ]
    }
   ],
   "source": [
    "print(llm.predict(ask))          #OpenAi model result"
   ]
  },
  {
   "cell_type": "markdown",
   "metadata": {},
   "source": [
    "Prompt Templates and LLMChains"
   ]
  },
  {
   "cell_type": "code",
   "execution_count": 9,
   "metadata": {},
   "outputs": [
    {
     "data": {
      "text/plain": [
       "'Tell me the capital of this India'"
      ]
     },
     "execution_count": 9,
     "metadata": {},
     "output_type": "execute_result"
    }
   ],
   "source": [
    "from langchain.prompts import PromptTemplate\n",
    "prompt_template = PromptTemplate(input_variables=['country'],\n",
    "                                 template = \"Tell me the capital of this {country}\")\n",
    "\n",
    "prompt_template.format(country =\"India\")"
   ]
  },
  {
   "cell_type": "code",
   "execution_count": 10,
   "metadata": {},
   "outputs": [
    {
     "name": "stderr",
     "output_type": "stream",
     "text": [
      "c:\\Users\\UditSharma\\anaconda3\\Lib\\site-packages\\langchain_core\\_api\\deprecation.py:117: LangChainDeprecationWarning: The function `run` was deprecated in LangChain 0.1.0 and will be removed in 0.2.0. Use invoke instead.\n",
      "  warn_deprecated(\n"
     ]
    },
    {
     "name": "stdout",
     "output_type": "stream",
     "text": [
      "\n",
      "\n",
      "The capital of India is New Delhi.\n"
     ]
    }
   ],
   "source": [
    "# llm.predict(prompt_template=prompt_template, text =[\"India\"])     # error\n",
    "from langchain.chains import LLMChain\n",
    "chain = LLMChain(llm=llm, prompt= prompt_template)\n",
    "print(chain.invoke(\"India\"))"
   ]
  },
  {
   "cell_type": "markdown",
   "metadata": {},
   "source": [
    "Combininig Multiple Chains Using Simple Sequential Chain"
   ]
  },
  {
   "cell_type": "code",
   "execution_count": 11,
   "metadata": {},
   "outputs": [],
   "source": [
    "country_template = PromptTemplate(input_variables=['country'],\n",
    "                                  template = \"Tell me the capital of this {country}\")\n",
    "\n",
    "country_chain =LLMChain(llm=llm, prompt =country_template)\n",
    "\n",
    "capital_template =PromptTemplate(input_variables=['capital'],\n",
    "                                 template = \"Tell me some amazing places to vist in {capital})\")\n",
    "\n",
    "capital_chain = LLMChain(llm=llm, prompt = capital_template)"
   ]
  },
  {
   "cell_type": "code",
   "execution_count": 12,
   "metadata": {},
   "outputs": [
    {
     "name": "stdout",
     "output_type": "stream",
     "text": [
      "\n",
      "\n",
      "1. The Red Fort: This iconic monument is a must-visit for its stunning architecture and historical significance.\n",
      "\n",
      "2. Qutub Minar: This 240 feet tall tower is a UNESCO World Heritage Site and is a perfect example of Indo-Islamic architecture.\n",
      "\n",
      "3. India Gate: This war memorial is a popular spot for locals and tourists alike, with its beautiful gardens and evening light show.\n",
      "\n",
      "4. Humayun's Tomb: This mausoleum is the final resting place of Mughal Emperor Humayun and is known for its intricate design and beautiful gardens.\n",
      "\n",
      "5. Lotus Temple: This Bahá'í House of Worship is a unique and beautiful structure, and is open to people of all religions.\n",
      "\n",
      "6. Chandni Chowk: This bustling market in Old Delhi is a paradise for foodies and shoppers, with its narrow lanes and vibrant atmosphere.\n",
      "\n",
      "7. Rashtrapati Bhavan: The official residence of the President of India, this grand building is a must-visit for its stunning architecture and manicured gardens.\n",
      "\n",
      "8. Jama Masjid: This 17th-century mosque is the largest in India and is a popular spot for its beautiful architecture and peaceful atmosphere.\n",
      "\n",
      "9. Akshardham Temple: This modern Hindu temple is a popular\n"
     ]
    }
   ],
   "source": [
    "from langchain.chains import SimpleSequentialChain\n",
    "chain = SimpleSequentialChain(chains=[country_chain,capital_chain])\n",
    "print(chain.run(\"India\"))"
   ]
  },
  {
   "cell_type": "markdown",
   "metadata": {},
   "source": [
    "Sequential Chain"
   ]
  },
  {
   "cell_type": "code",
   "execution_count": 13,
   "metadata": {},
   "outputs": [],
   "source": [
    "country_template = PromptTemplate(input_variables=['country'],\n",
    "                                  template = \"Tell me the capital of this {country}\")\n",
    "\n",
    "country_chain =LLMChain(llm=llm, prompt =country_template, output_key = \"capital\")"
   ]
  },
  {
   "cell_type": "code",
   "execution_count": 14,
   "metadata": {},
   "outputs": [],
   "source": [
    "capital_template =PromptTemplate(input_variables=['capital'],\n",
    "                                 template = \"Tell me some amazing places to vist in {capital})\")\n",
    "\n",
    "capital_chain = LLMChain(llm=llm, prompt = capital_template, output_key= \"places\")"
   ]
  },
  {
   "cell_type": "code",
   "execution_count": 26,
   "metadata": {},
   "outputs": [],
   "source": [
    "from langchain.chains import SequentialChain\n",
    "chain =SequentialChain(chains=[country_chain, capital_chain],\n",
    "input_variables = ['country'],\n",
    "output_variables = ['capital','places']\n",
    ")\n"
   ]
  },
  {
   "cell_type": "code",
   "execution_count": 27,
   "metadata": {},
   "outputs": [
    {
     "name": "stdout",
     "output_type": "stream",
     "text": [
      "{'country': 'India', 'capital': '\\n\\nThe capital of India is New Delhi.', 'places': \"\\n\\n1. The Red Fort - a historic fort complex and UNESCO World Heritage Site\\n2. Qutub Minar - a 73-meter tall minaret and UNESCO World Heritage Site\\n3. Humayun's Tomb - a beautiful Mughal-era mausoleum and UNESCO World Heritage Site\\n4. India Gate - a war memorial and iconic landmark of Delhi\\n5. Lotus Temple - a Bahá'í House of Worship known for its unique lotus-shaped architecture\\n6. Jama Masjid - one of the largest and most famous mosques in India\\n7. Chandni Chowk - a bustling market in Old Delhi known for its street food and shopping\\n8. Akshardham Temple - a stunning Hindu temple complex with intricate architecture and beautiful gardens\\n9. National Museum - a must-visit for history and art lovers, showcasing India's rich cultural heritage\\n10. Lodhi Gardens - a peaceful oasis in the heart of the city, perfect for a stroll or a picnic.\"}\n"
     ]
    }
   ],
   "source": [
    "print(chain({\"country\":\"India\"}))"
   ]
  },
  {
   "cell_type": "markdown",
   "metadata": {},
   "source": [
    "Chatmodels With ChatOpenAI"
   ]
  },
  {
   "cell_type": "code",
   "execution_count": 17,
   "metadata": {},
   "outputs": [
    {
     "name": "stderr",
     "output_type": "stream",
     "text": [
      "c:\\Users\\UditSharma\\anaconda3\\Lib\\site-packages\\langchain_core\\_api\\deprecation.py:117: LangChainDeprecationWarning: The class `langchain_community.chat_models.openai.ChatOpenAI` was deprecated in langchain-community 0.0.10 and will be removed in 0.2.0. An updated version of the class exists in the langchain-openai package and should be used instead. To use it run `pip install -U langchain-openai` and import as `from langchain_openai import ChatOpenAI`.\n",
      "  warn_deprecated(\n"
     ]
    },
    {
     "data": {
      "text/plain": [
       "AIMessage(content='Amitabh Bachchan')"
      ]
     },
     "execution_count": 17,
     "metadata": {},
     "output_type": "execute_result"
    }
   ],
   "source": [
    "from langchain.chat_models import ChatOpenAI\n",
    "from langchain.schema import HumanMessage,SystemMessage,AIMessage\n",
    "chat_llm=ChatOpenAI(temperature=0.5, openai_api_key=\"#insert your own openAI api key\", model=\"gpt-3.5-turbo\")\n",
    "chat_llm.invoke(\"guess my name as famous indian male\")"
   ]
  },
  {
   "cell_type": "code",
   "execution_count": 18,
   "metadata": {},
   "outputs": [
    {
     "name": "stderr",
     "output_type": "stream",
     "text": [
      "c:\\Users\\UditSharma\\anaconda3\\Lib\\site-packages\\langchain_core\\_api\\deprecation.py:117: LangChainDeprecationWarning: The function `__call__` was deprecated in LangChain 0.1.7 and will be removed in 0.2.0. Use invoke instead.\n",
      "  warn_deprecated(\n"
     ]
    },
    {
     "name": "stdout",
     "output_type": "stream",
     "text": [
      "content='1. Are you made of copper and tellurium? Because you\\'re Cu-Te!\\n\\n2. Are you a magician? Because whenever I look at you, everyone else disappears.\\n\\n3. Do you have a name, or can I call you mine?\\n\\n4. Are you a parking ticket? Because you\\'ve got \"fine\" written all over you.\\n\\n5. If beauty were a crime, you\\'d be serving a life sentence.\\n\\nRemember, humor and flirting should always be respectful and well-received by the other person!'\n"
     ]
    }
   ],
   "source": [
    "print(chat_llm([\n",
    "    SystemMessage(content=\"You are a comedian AI Assistant\"),\n",
    "    HumanMessage(content=\"Please some flirting punch lines\")\n",
    "]))"
   ]
  },
  {
   "cell_type": "markdown",
   "metadata": {},
   "source": [
    "Prompt Template + LLM + Output Parsers"
   ]
  },
  {
   "cell_type": "code",
   "execution_count": 19,
   "metadata": {},
   "outputs": [],
   "source": [
    "from langchain.chat_models import ChatOpenAI\n",
    "from langchain.prompts.chat import ChatPromptTemplate\n",
    "from langchain.schema import BaseOutputParser"
   ]
  },
  {
   "cell_type": "code",
   "execution_count": 20,
   "metadata": {},
   "outputs": [],
   "source": [
    "class Commaseperatedoubtput(BaseOutputParser):\n",
    "    def parse(self, text:str):\n",
    "        return text.strip().split(\",\")"
   ]
  },
  {
   "cell_type": "code",
   "execution_count": 21,
   "metadata": {},
   "outputs": [],
   "source": [
    "template =\"You are a helpful assistant. when the user gives you any input, you have to generate five synonyms\"\n",
    "human_template = \"{text}\"\n",
    "chatprompt = ChatPromptTemplate.from_messages(\n",
    "    [\n",
    "        (\"system\", template),\n",
    "        (\"human\", human_template)\n",
    "    ])"
   ]
  },
  {
   "cell_type": "code",
   "execution_count": 22,
   "metadata": {},
   "outputs": [
    {
     "data": {
      "text/plain": [
       "['1. clever\\n2. smart\\n3. knowledgeable\\n4. brilliant\\n5. sharp']"
      ]
     },
     "execution_count": 22,
     "metadata": {},
     "output_type": "execute_result"
    }
   ],
   "source": [
    "chain = chatprompt|chat_llm|Commaseperatedoubtput()\n",
    "chain.invoke({\"text\":\"intelligent\"})"
   ]
  }
 ],
 "metadata": {
  "kernelspec": {
   "display_name": "Python 3",
   "language": "python",
   "name": "python3"
  },
  "language_info": {
   "codemirror_mode": {
    "name": "ipython",
    "version": 3
   },
   "file_extension": ".py",
   "mimetype": "text/x-python",
   "name": "python",
   "nbconvert_exporter": "python",
   "pygments_lexer": "ipython3",
   "version": "3.11.5"
  }
 },
 "nbformat": 4,
 "nbformat_minor": 2
}
